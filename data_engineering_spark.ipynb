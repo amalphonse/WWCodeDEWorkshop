{
  "nbformat": 4,
  "nbformat_minor": 0,
  "metadata": {
    "colab": {
      "name": "data_engineering_spark.ipynb",
      "provenance": []
    },
    "kernelspec": {
      "name": "python3",
      "display_name": "Python 3"
    },
    "language_info": {
      "name": "python"
    }
  },
  "cells": [
    {
      "cell_type": "code",
      "source": [
        "from google.colab import drive\n",
        "drive.mount('/content/gdrive')"
      ],
      "metadata": {
        "colab": {
          "base_uri": "https://localhost:8080/"
        },
        "id": "mt3B7XGeapVO",
        "outputId": "9d0ca9b6-6d96-40ac-ff0f-02a306e9d643"
      },
      "execution_count": 1,
      "outputs": [
        {
          "output_type": "stream",
          "name": "stdout",
          "text": [
            "Mounted at /content/gdrive\n"
          ]
        }
      ]
    },
    {
      "cell_type": "code",
      "source": [
        "!ls \"/content/gdrive/My Drive/WWCode Python Workshop\""
      ],
      "metadata": {
        "colab": {
          "base_uri": "https://localhost:8080/"
        },
        "id": "LBrgygRZeyBp",
        "outputId": "3480bb14-4c5f-454e-8368-d7ab02a0c2e0"
      },
      "execution_count": 2,
      "outputs": [
        {
          "output_type": "stream",
          "name": "stdout",
          "text": [
            " 2_spark_maps_and_lazy_evaluation.ipynb\n",
            "'3_data_inputs_and_outputs (1).ipynb'\n",
            " 3_data_inputs_and_outputs.ipynb\n",
            " 4_data_wrangling.ipynb\n",
            " 6_dataframe_quiz_solution.ipynb\n",
            "'7_data_wrangling-sql (1).ipynb'\n",
            " 7_data_wrangling-sql.ipynb\n",
            " 9_spark_sql_quiz_solution.ipynb\n",
            "'all_conditions 2.csv'\n",
            " all_conditions.csv\n",
            " archive.zip\n",
            "'Building a Data Engineering Portfolio.gslides'\n",
            "'bzone.csv - Sheet1.csv'\n",
            " California_Building_Climate_Zones.csv\n",
            " California_Building_Climate_Zones.geojson\n",
            " climate_data.csv\n",
            " climate_data_per_state.csv\n",
            " crime_data.csv\n",
            " data_analysis.ipynb\n",
            " data_engineering_spark.ipynb\n",
            "'DE Workshop.gdoc'\n",
            " ER_diagram.drawio\n",
            " ER_diagram.drawio.png\n",
            " GlobalLandTemperatures_GlobalLandTemperaturesByCountry.csv\n",
            " GlobalLandTemperatures_GlobalLandTemperaturesByState.csv\n",
            " hci_crime_752_pl_co_re_ca_2000-2013_21oct15-ada.xlsx\n",
            " housing_data.csv\n",
            " Metro_zhvi_bdrmcnt_1_uc_sfrcondo_tier_0.33_0.67_sm_sa_month.csv\n",
            " Metro_zhvi_uc_sfrcondo_tier_0.0_0.33_sm_sa_month.csv\n",
            " Metro_zhvi_uc_sfrcondo_tier_0.33_0.67_month.csv\n",
            " Metro_zhvi_uc_sfrcondo_tier_0.67_1.0_sm_sa_month.csv\n",
            "'Notes for workshop.gdoc'\n",
            " violentcrimedatadictionary.xlsx\n",
            " violent_crimes.xlsx\n"
          ]
        }
      ]
    },
    {
      "cell_type": "code",
      "source": [
        "!sudo apt update"
      ],
      "metadata": {
        "colab": {
          "base_uri": "https://localhost:8080/"
        },
        "id": "VDoreN7Zb_UN",
        "outputId": "438a41b7-2772-499f-bf3d-1bd3f37f50b3"
      },
      "execution_count": 3,
      "outputs": [
        {
          "output_type": "stream",
          "name": "stdout",
          "text": [
            "Get:1 https://cloud.r-project.org/bin/linux/ubuntu bionic-cran40/ InRelease [3,626 B]\n",
            "Get:2 http://security.ubuntu.com/ubuntu bionic-security InRelease [88.7 kB]\n",
            "Get:3 http://ppa.launchpad.net/c2d4u.team/c2d4u4.0+/ubuntu bionic InRelease [15.9 kB]\n",
            "Hit:4 http://archive.ubuntu.com/ubuntu bionic InRelease\n",
            "Get:5 http://archive.ubuntu.com/ubuntu bionic-updates InRelease [88.7 kB]\n",
            "Ign:6 https://developer.download.nvidia.com/compute/machine-learning/repos/ubuntu1804/x86_64  InRelease\n",
            "Get:7 https://developer.download.nvidia.com/compute/cuda/repos/ubuntu1804/x86_64  InRelease [1,581 B]\n",
            "Hit:8 https://developer.download.nvidia.com/compute/machine-learning/repos/ubuntu1804/x86_64  Release\n",
            "Hit:9 http://ppa.launchpad.net/cran/libgit2/ubuntu bionic InRelease\n",
            "Get:10 https://developer.download.nvidia.com/compute/cuda/repos/ubuntu1804/x86_64  Packages [910 kB]\n",
            "Get:11 http://security.ubuntu.com/ubuntu bionic-security/main amd64 Packages [2,937 kB]\n",
            "Get:13 http://archive.ubuntu.com/ubuntu bionic-backports InRelease [74.6 kB]\n",
            "Hit:14 http://ppa.launchpad.net/deadsnakes/ppa/ubuntu bionic InRelease\n",
            "Get:15 http://archive.ubuntu.com/ubuntu bionic-updates/main amd64 Packages [3,369 kB]\n",
            "Hit:16 http://ppa.launchpad.net/graphics-drivers/ppa/ubuntu bionic InRelease\n",
            "Get:17 http://security.ubuntu.com/ubuntu bionic-security/universe amd64 Packages [1,533 kB]\n",
            "Get:18 http://ppa.launchpad.net/c2d4u.team/c2d4u4.0+/ubuntu bionic/main Sources [2,095 kB]\n",
            "Get:19 http://archive.ubuntu.com/ubuntu bionic-updates/universe amd64 Packages [2,310 kB]\n",
            "Get:20 http://ppa.launchpad.net/c2d4u.team/c2d4u4.0+/ubuntu bionic/main amd64 Packages [1,073 kB]\n",
            "Fetched 14.5 MB in 6s (2,454 kB/s)\n",
            "Reading package lists... Done\n",
            "Building dependency tree       \n",
            "Reading state information... Done\n",
            "22 packages can be upgraded. Run 'apt list --upgradable' to see them.\n"
          ]
        }
      ]
    },
    {
      "cell_type": "code",
      "execution_count": 4,
      "metadata": {
        "colab": {
          "base_uri": "https://localhost:8080/"
        },
        "id": "KFP_wZx6aNFL",
        "outputId": "42e6863f-59c5-4401-d32c-62175c3ec750"
      },
      "outputs": [
        {
          "output_type": "stream",
          "name": "stdout",
          "text": [
            "debconf: unable to initialize frontend: Dialog\n",
            "debconf: (No usable dialog-like program is installed, so the dialog based frontend cannot be used. at /usr/share/perl5/Debconf/FrontEnd/Dialog.pm line 76, <> line 2.)\n",
            "debconf: falling back to frontend: Readline\n",
            "debconf: unable to initialize frontend: Readline\n",
            "debconf: (This frontend requires a controlling tty.)\n",
            "debconf: falling back to frontend: Teletype\n",
            "dpkg-preconfigure: unable to re-open stdin: \n"
          ]
        }
      ],
      "source": [
        "!sudo apt-get install openjdk-8-jdk-headless -qq > /dev/null"
      ]
    },
    {
      "cell_type": "code",
      "source": [
        "!wget -q https://archive.apache.org/dist/spark/spark-3.0.0/spark-3.0.0-bin-hadoop3.2.tgz"
      ],
      "metadata": {
        "id": "hVEOqvXcbMAt"
      },
      "execution_count": 5,
      "outputs": []
    },
    {
      "cell_type": "code",
      "source": [
        "!tar xf spark-3.0.0-bin-hadoop3.2.tgz"
      ],
      "metadata": {
        "id": "KmLdVR60bTNz"
      },
      "execution_count": 6,
      "outputs": []
    },
    {
      "cell_type": "code",
      "source": [
        "import os\n",
        "os.environ[\"JAVA_HOME\"] = \"/usr/lib/jvm/java-8-openjdk-amd64\"\n",
        "os.environ[\"SPARK_HOME\"] = \"/content/spark-3.0.0-bin-hadoop3.2\""
      ],
      "metadata": {
        "id": "9U5VERZgbvU1"
      },
      "execution_count": 7,
      "outputs": []
    },
    {
      "cell_type": "code",
      "source": [
        "!pip install -q findspark"
      ],
      "metadata": {
        "id": "S1_YMkRAbTPb"
      },
      "execution_count": 8,
      "outputs": []
    },
    {
      "cell_type": "code",
      "source": [
        "import findspark\n",
        "findspark.init()"
      ],
      "metadata": {
        "id": "A6Q2hGesbpmJ"
      },
      "execution_count": 9,
      "outputs": []
    },
    {
      "cell_type": "code",
      "source": [
        "findspark.find()"
      ],
      "metadata": {
        "colab": {
          "base_uri": "https://localhost:8080/",
          "height": 35
        },
        "id": "5OaWGcWXdBaP",
        "outputId": "fd9f2106-2344-433f-dc20-1cb583ed955c"
      },
      "execution_count": 10,
      "outputs": [
        {
          "output_type": "execute_result",
          "data": {
            "text/plain": [
              "'/content/spark-3.0.0-bin-hadoop3.2'"
            ],
            "application/vnd.google.colaboratory.intrinsic+json": {
              "type": "string"
            }
          },
          "metadata": {},
          "execution_count": 10
        }
      ]
    },
    {
      "cell_type": "code",
      "source": [
        "import pyspark\n",
        "from pyspark import SparkConf\n",
        "from pyspark.sql import SparkSession"
      ],
      "metadata": {
        "id": "wbyp563YdMIg"
      },
      "execution_count": 11,
      "outputs": []
    },
    {
      "cell_type": "code",
      "source": [
        "spark = SparkSession.builder\\\n",
        "        .master(\"local\")\\\n",
        "        .appName(\"DataAnalyticsTable\")\\\n",
        "        .config('spark.ui.port', '4050')\\\n",
        "        .getOrCreate()"
      ],
      "metadata": {
        "id": "fISo21VXdHen"
      },
      "execution_count": 12,
      "outputs": []
    },
    {
      "cell_type": "code",
      "source": [
        "spark"
      ],
      "metadata": {
        "colab": {
          "base_uri": "https://localhost:8080/",
          "height": 219
        },
        "id": "X7C8nOd4dvYA",
        "outputId": "c71c4afe-90c8-420e-9685-aa58b76fa09a"
      },
      "execution_count": 13,
      "outputs": [
        {
          "output_type": "execute_result",
          "data": {
            "text/plain": [
              "<pyspark.sql.session.SparkSession at 0x7ff5cd7b0250>"
            ],
            "text/html": [
              "\n",
              "            <div>\n",
              "                <p><b>SparkSession - in-memory</b></p>\n",
              "                \n",
              "        <div>\n",
              "            <p><b>SparkContext</b></p>\n",
              "\n",
              "            <p><a href=\"http://678bfa0cd197:4050\">Spark UI</a></p>\n",
              "\n",
              "            <dl>\n",
              "              <dt>Version</dt>\n",
              "                <dd><code>v3.0.0</code></dd>\n",
              "              <dt>Master</dt>\n",
              "                <dd><code>local</code></dd>\n",
              "              <dt>AppName</dt>\n",
              "                <dd><code>DataAnalyticsTable</code></dd>\n",
              "            </dl>\n",
              "        </div>\n",
              "        \n",
              "            </div>\n",
              "        "
            ]
          },
          "metadata": {},
          "execution_count": 13
        }
      ]
    },
    {
      "cell_type": "code",
      "source": [
        "spark.sparkContext.getConf().getAll()"
      ],
      "metadata": {
        "colab": {
          "base_uri": "https://localhost:8080/"
        },
        "id": "KY4drSSrdyd0",
        "outputId": "4d1bc7de-ebca-4f42-98bd-094be968ab29"
      },
      "execution_count": 14,
      "outputs": [
        {
          "output_type": "execute_result",
          "data": {
            "text/plain": [
              "[('spark.master', 'local'),\n",
              " ('spark.app.name', 'DataAnalyticsTable'),\n",
              " ('spark.ui.port', '4050'),\n",
              " ('spark.rdd.compress', 'True'),\n",
              " ('spark.driver.port', '39077'),\n",
              " ('spark.app.id', 'local-1660778484558'),\n",
              " ('spark.serializer.objectStreamReset', '100'),\n",
              " ('spark.submit.pyFiles', ''),\n",
              " ('spark.executor.id', 'driver'),\n",
              " ('spark.submit.deployMode', 'client'),\n",
              " ('spark.driver.host', '678bfa0cd197'),\n",
              " ('spark.ui.showConsoleProgress', 'true')]"
            ]
          },
          "metadata": {},
          "execution_count": 14
        }
      ]
    },
    {
      "cell_type": "code",
      "source": [
        "housing_path = \"/content/gdrive/My Drive/WWCode Python Workshop/housing_data.csv\"\n",
        "housing_data = spark.read.format(\"csv\").option(\"header\",\"true\").load(housing_path)\n",
        "#housing_data = spark.read.json(housing_path)"
      ],
      "metadata": {
        "id": "pYZCsS7fd4Dg"
      },
      "execution_count": 15,
      "outputs": []
    },
    {
      "cell_type": "code",
      "source": [
        "housing_data.printSchema()"
      ],
      "metadata": {
        "colab": {
          "base_uri": "https://localhost:8080/"
        },
        "id": "M4bFxaQygRl_",
        "outputId": "8e01622d-4e99-49d5-f708-dd4222b5e5fa"
      },
      "execution_count": 16,
      "outputs": [
        {
          "output_type": "stream",
          "name": "stdout",
          "text": [
            "root\n",
            " |-- _c0: string (nullable = true)\n",
            " |-- RegionID: string (nullable = true)\n",
            " |-- SizeRank: string (nullable = true)\n",
            " |-- RegionType: string (nullable = true)\n",
            " |-- 2000-01-31: string (nullable = true)\n",
            " |-- 2000-02-29: string (nullable = true)\n",
            " |-- 2000-03-31: string (nullable = true)\n",
            " |-- 2000-04-30: string (nullable = true)\n",
            " |-- 2000-05-31: string (nullable = true)\n",
            " |-- 2000-06-30: string (nullable = true)\n",
            " |-- 2000-07-31: string (nullable = true)\n",
            " |-- 2000-08-31: string (nullable = true)\n",
            " |-- 2000-09-30: string (nullable = true)\n",
            " |-- 2000-10-31: string (nullable = true)\n",
            " |-- 2000-11-30: string (nullable = true)\n",
            " |-- 2000-12-31: string (nullable = true)\n",
            " |-- 2001-01-31: string (nullable = true)\n",
            " |-- 2001-02-28: string (nullable = true)\n",
            " |-- 2001-03-31: string (nullable = true)\n",
            " |-- 2001-04-30: string (nullable = true)\n",
            " |-- 2001-05-31: string (nullable = true)\n",
            " |-- 2001-06-30: string (nullable = true)\n",
            " |-- 2001-07-31: string (nullable = true)\n",
            " |-- 2001-08-31: string (nullable = true)\n",
            " |-- 2001-09-30: string (nullable = true)\n",
            " |-- 2001-10-31: string (nullable = true)\n",
            " |-- 2001-11-30: string (nullable = true)\n",
            " |-- 2001-12-31: string (nullable = true)\n",
            " |-- 2002-01-31: string (nullable = true)\n",
            " |-- 2002-02-28: string (nullable = true)\n",
            " |-- 2002-03-31: string (nullable = true)\n",
            " |-- 2002-04-30: string (nullable = true)\n",
            " |-- 2002-05-31: string (nullable = true)\n",
            " |-- 2002-06-30: string (nullable = true)\n",
            " |-- 2002-07-31: string (nullable = true)\n",
            " |-- 2002-08-31: string (nullable = true)\n",
            " |-- 2002-09-30: string (nullable = true)\n",
            " |-- 2002-10-31: string (nullable = true)\n",
            " |-- 2002-11-30: string (nullable = true)\n",
            " |-- 2002-12-31: string (nullable = true)\n",
            " |-- 2003-01-31: string (nullable = true)\n",
            " |-- 2003-02-28: string (nullable = true)\n",
            " |-- 2003-03-31: string (nullable = true)\n",
            " |-- 2003-04-30: string (nullable = true)\n",
            " |-- 2003-05-31: string (nullable = true)\n",
            " |-- 2003-06-30: string (nullable = true)\n",
            " |-- 2003-07-31: string (nullable = true)\n",
            " |-- 2003-08-31: string (nullable = true)\n",
            " |-- 2003-09-30: string (nullable = true)\n",
            " |-- 2003-10-31: string (nullable = true)\n",
            " |-- 2003-11-30: string (nullable = true)\n",
            " |-- 2003-12-31: string (nullable = true)\n",
            " |-- 2004-01-31: string (nullable = true)\n",
            " |-- 2004-02-29: string (nullable = true)\n",
            " |-- 2004-03-31: string (nullable = true)\n",
            " |-- 2004-04-30: string (nullable = true)\n",
            " |-- 2004-05-31: string (nullable = true)\n",
            " |-- 2004-06-30: string (nullable = true)\n",
            " |-- 2004-07-31: string (nullable = true)\n",
            " |-- 2004-08-31: string (nullable = true)\n",
            " |-- 2004-09-30: string (nullable = true)\n",
            " |-- 2004-10-31: string (nullable = true)\n",
            " |-- 2004-11-30: string (nullable = true)\n",
            " |-- 2004-12-31: string (nullable = true)\n",
            " |-- 2005-01-31: string (nullable = true)\n",
            " |-- 2005-02-28: string (nullable = true)\n",
            " |-- 2005-03-31: string (nullable = true)\n",
            " |-- 2005-04-30: string (nullable = true)\n",
            " |-- 2005-05-31: string (nullable = true)\n",
            " |-- 2005-06-30: string (nullable = true)\n",
            " |-- 2005-07-31: string (nullable = true)\n",
            " |-- 2005-08-31: string (nullable = true)\n",
            " |-- 2005-09-30: string (nullable = true)\n",
            " |-- 2005-10-31: string (nullable = true)\n",
            " |-- 2005-11-30: string (nullable = true)\n",
            " |-- 2005-12-31: string (nullable = true)\n",
            " |-- 2006-01-31: string (nullable = true)\n",
            " |-- 2006-02-28: string (nullable = true)\n",
            " |-- 2006-03-31: string (nullable = true)\n",
            " |-- 2006-04-30: string (nullable = true)\n",
            " |-- 2006-05-31: string (nullable = true)\n",
            " |-- 2006-06-30: string (nullable = true)\n",
            " |-- 2006-07-31: string (nullable = true)\n",
            " |-- 2006-08-31: string (nullable = true)\n",
            " |-- 2006-09-30: string (nullable = true)\n",
            " |-- 2006-10-31: string (nullable = true)\n",
            " |-- 2006-11-30: string (nullable = true)\n",
            " |-- 2006-12-31: string (nullable = true)\n",
            " |-- 2007-01-31: string (nullable = true)\n",
            " |-- 2007-02-28: string (nullable = true)\n",
            " |-- 2007-03-31: string (nullable = true)\n",
            " |-- 2007-04-30: string (nullable = true)\n",
            " |-- 2007-05-31: string (nullable = true)\n",
            " |-- 2007-06-30: string (nullable = true)\n",
            " |-- 2007-07-31: string (nullable = true)\n",
            " |-- 2007-08-31: string (nullable = true)\n",
            " |-- 2007-09-30: string (nullable = true)\n",
            " |-- 2007-10-31: string (nullable = true)\n",
            " |-- 2007-11-30: string (nullable = true)\n",
            " |-- 2007-12-31: string (nullable = true)\n",
            " |-- 2008-01-31: string (nullable = true)\n",
            " |-- 2008-02-29: string (nullable = true)\n",
            " |-- 2008-03-31: string (nullable = true)\n",
            " |-- 2008-04-30: string (nullable = true)\n",
            " |-- 2008-05-31: string (nullable = true)\n",
            " |-- 2008-06-30: string (nullable = true)\n",
            " |-- 2008-07-31: string (nullable = true)\n",
            " |-- 2008-08-31: string (nullable = true)\n",
            " |-- 2008-09-30: string (nullable = true)\n",
            " |-- 2008-10-31: string (nullable = true)\n",
            " |-- 2008-11-30: string (nullable = true)\n",
            " |-- 2008-12-31: string (nullable = true)\n",
            " |-- 2009-01-31: string (nullable = true)\n",
            " |-- 2009-02-28: string (nullable = true)\n",
            " |-- 2009-03-31: string (nullable = true)\n",
            " |-- 2009-04-30: string (nullable = true)\n",
            " |-- 2009-05-31: string (nullable = true)\n",
            " |-- 2009-06-30: string (nullable = true)\n",
            " |-- 2009-07-31: string (nullable = true)\n",
            " |-- 2009-08-31: string (nullable = true)\n",
            " |-- 2009-09-30: string (nullable = true)\n",
            " |-- 2009-10-31: string (nullable = true)\n",
            " |-- 2009-11-30: string (nullable = true)\n",
            " |-- 2009-12-31: string (nullable = true)\n",
            " |-- 2010-01-31: string (nullable = true)\n",
            " |-- 2010-02-28: string (nullable = true)\n",
            " |-- 2010-03-31: string (nullable = true)\n",
            " |-- 2010-04-30: string (nullable = true)\n",
            " |-- 2010-05-31: string (nullable = true)\n",
            " |-- 2010-06-30: string (nullable = true)\n",
            " |-- 2010-07-31: string (nullable = true)\n",
            " |-- 2010-08-31: string (nullable = true)\n",
            " |-- 2010-09-30: string (nullable = true)\n",
            " |-- 2010-10-31: string (nullable = true)\n",
            " |-- 2010-11-30: string (nullable = true)\n",
            " |-- 2010-12-31: string (nullable = true)\n",
            " |-- 2011-01-31: string (nullable = true)\n",
            " |-- 2011-02-28: string (nullable = true)\n",
            " |-- 2011-03-31: string (nullable = true)\n",
            " |-- 2011-04-30: string (nullable = true)\n",
            " |-- 2011-05-31: string (nullable = true)\n",
            " |-- 2011-06-30: string (nullable = true)\n",
            " |-- 2011-07-31: string (nullable = true)\n",
            " |-- 2011-08-31: string (nullable = true)\n",
            " |-- 2011-09-30: string (nullable = true)\n",
            " |-- 2011-10-31: string (nullable = true)\n",
            " |-- 2011-11-30: string (nullable = true)\n",
            " |-- 2011-12-31: string (nullable = true)\n",
            " |-- 2012-01-31: string (nullable = true)\n",
            " |-- 2012-02-29: string (nullable = true)\n",
            " |-- 2012-03-31: string (nullable = true)\n",
            " |-- 2012-04-30: string (nullable = true)\n",
            " |-- 2012-05-31: string (nullable = true)\n",
            " |-- 2012-06-30: string (nullable = true)\n",
            " |-- 2012-07-31: string (nullable = true)\n",
            " |-- 2012-08-31: string (nullable = true)\n",
            " |-- 2012-09-30: string (nullable = true)\n",
            " |-- 2012-10-31: string (nullable = true)\n",
            " |-- 2012-11-30: string (nullable = true)\n",
            " |-- 2012-12-31: string (nullable = true)\n",
            " |-- 2013-01-31: string (nullable = true)\n",
            " |-- 2013-02-28: string (nullable = true)\n",
            " |-- 2013-03-31: string (nullable = true)\n",
            " |-- 2013-04-30: string (nullable = true)\n",
            " |-- 2013-05-31: string (nullable = true)\n",
            " |-- 2013-06-30: string (nullable = true)\n",
            " |-- 2013-07-31: string (nullable = true)\n",
            " |-- 2013-08-31: string (nullable = true)\n",
            " |-- 2013-09-30: string (nullable = true)\n",
            " |-- 2013-10-31: string (nullable = true)\n",
            " |-- 2013-11-30: string (nullable = true)\n",
            " |-- 2013-12-31: string (nullable = true)\n",
            " |-- 2014-01-31: string (nullable = true)\n",
            " |-- 2014-02-28: string (nullable = true)\n",
            " |-- 2014-03-31: string (nullable = true)\n",
            " |-- 2014-04-30: string (nullable = true)\n",
            " |-- 2014-05-31: string (nullable = true)\n",
            " |-- 2014-06-30: string (nullable = true)\n",
            " |-- 2014-07-31: string (nullable = true)\n",
            " |-- 2014-08-31: string (nullable = true)\n",
            " |-- 2014-09-30: string (nullable = true)\n",
            " |-- 2014-10-31: string (nullable = true)\n",
            " |-- 2014-11-30: string (nullable = true)\n",
            " |-- 2014-12-31: string (nullable = true)\n",
            " |-- City : string (nullable = true)\n",
            " |-- State: string (nullable = true)\n",
            " |-- house_type: string (nullable = true)\n",
            " |-- cost_percentile_range: string (nullable = true)\n",
            "\n"
          ]
        }
      ]
    },
    {
      "cell_type": "code",
      "source": [
        "housing_data.describe()"
      ],
      "metadata": {
        "colab": {
          "base_uri": "https://localhost:8080/"
        },
        "id": "sIlYcFR7fV3x",
        "outputId": "00f138bc-d1ee-4a24-8619-bf795b9b0107"
      },
      "execution_count": 17,
      "outputs": [
        {
          "output_type": "execute_result",
          "data": {
            "text/plain": [
              "DataFrame[summary: string, _c0: string, RegionID: string, SizeRank: string, RegionType: string, 2000-01-31: string, 2000-02-29: string, 2000-03-31: string, 2000-04-30: string, 2000-05-31: string, 2000-06-30: string, 2000-07-31: string, 2000-08-31: string, 2000-09-30: string, 2000-10-31: string, 2000-11-30: string, 2000-12-31: string, 2001-01-31: string, 2001-02-28: string, 2001-03-31: string, 2001-04-30: string, 2001-05-31: string, 2001-06-30: string, 2001-07-31: string, 2001-08-31: string, 2001-09-30: string, 2001-10-31: string, 2001-11-30: string, 2001-12-31: string, 2002-01-31: string, 2002-02-28: string, 2002-03-31: string, 2002-04-30: string, 2002-05-31: string, 2002-06-30: string, 2002-07-31: string, 2002-08-31: string, 2002-09-30: string, 2002-10-31: string, 2002-11-30: string, 2002-12-31: string, 2003-01-31: string, 2003-02-28: string, 2003-03-31: string, 2003-04-30: string, 2003-05-31: string, 2003-06-30: string, 2003-07-31: string, 2003-08-31: string, 2003-09-30: string, 2003-10-31: string, 2003-11-30: string, 2003-12-31: string, 2004-01-31: string, 2004-02-29: string, 2004-03-31: string, 2004-04-30: string, 2004-05-31: string, 2004-06-30: string, 2004-07-31: string, 2004-08-31: string, 2004-09-30: string, 2004-10-31: string, 2004-11-30: string, 2004-12-31: string, 2005-01-31: string, 2005-02-28: string, 2005-03-31: string, 2005-04-30: string, 2005-05-31: string, 2005-06-30: string, 2005-07-31: string, 2005-08-31: string, 2005-09-30: string, 2005-10-31: string, 2005-11-30: string, 2005-12-31: string, 2006-01-31: string, 2006-02-28: string, 2006-03-31: string, 2006-04-30: string, 2006-05-31: string, 2006-06-30: string, 2006-07-31: string, 2006-08-31: string, 2006-09-30: string, 2006-10-31: string, 2006-11-30: string, 2006-12-31: string, 2007-01-31: string, 2007-02-28: string, 2007-03-31: string, 2007-04-30: string, 2007-05-31: string, 2007-06-30: string, 2007-07-31: string, 2007-08-31: string, 2007-09-30: string, 2007-10-31: string, 2007-11-30: string, 2007-12-31: string, 2008-01-31: string, 2008-02-29: string, 2008-03-31: string, 2008-04-30: string, 2008-05-31: string, 2008-06-30: string, 2008-07-31: string, 2008-08-31: string, 2008-09-30: string, 2008-10-31: string, 2008-11-30: string, 2008-12-31: string, 2009-01-31: string, 2009-02-28: string, 2009-03-31: string, 2009-04-30: string, 2009-05-31: string, 2009-06-30: string, 2009-07-31: string, 2009-08-31: string, 2009-09-30: string, 2009-10-31: string, 2009-11-30: string, 2009-12-31: string, 2010-01-31: string, 2010-02-28: string, 2010-03-31: string, 2010-04-30: string, 2010-05-31: string, 2010-06-30: string, 2010-07-31: string, 2010-08-31: string, 2010-09-30: string, 2010-10-31: string, 2010-11-30: string, 2010-12-31: string, 2011-01-31: string, 2011-02-28: string, 2011-03-31: string, 2011-04-30: string, 2011-05-31: string, 2011-06-30: string, 2011-07-31: string, 2011-08-31: string, 2011-09-30: string, 2011-10-31: string, 2011-11-30: string, 2011-12-31: string, 2012-01-31: string, 2012-02-29: string, 2012-03-31: string, 2012-04-30: string, 2012-05-31: string, 2012-06-30: string, 2012-07-31: string, 2012-08-31: string, 2012-09-30: string, 2012-10-31: string, 2012-11-30: string, 2012-12-31: string, 2013-01-31: string, 2013-02-28: string, 2013-03-31: string, 2013-04-30: string, 2013-05-31: string, 2013-06-30: string, 2013-07-31: string, 2013-08-31: string, 2013-09-30: string, 2013-10-31: string, 2013-11-30: string, 2013-12-31: string, 2014-01-31: string, 2014-02-28: string, 2014-03-31: string, 2014-04-30: string, 2014-05-31: string, 2014-06-30: string, 2014-07-31: string, 2014-08-31: string, 2014-09-30: string, 2014-10-31: string, 2014-11-30: string, 2014-12-31: string, City : string, State: string, house_type: string, cost_percentile_range: string]"
            ]
          },
          "metadata": {},
          "execution_count": 17
        }
      ]
    },
    {
      "cell_type": "code",
      "source": [
        "housing_data.show(n=1)"
      ],
      "metadata": {
        "colab": {
          "base_uri": "https://localhost:8080/"
        },
        "id": "3J6I_1t6gZdq",
        "outputId": "fa741009-334d-4eac-d59b-5c3fe9d7d52e"
      },
      "execution_count": 18,
      "outputs": [
        {
          "output_type": "stream",
          "name": "stdout",
          "text": [
            "+---+--------+--------+----------+----------+----------+----------+----------+----------+----------+----------+----------+----------+----------+----------+----------+----------+----------+----------+----------+----------+----------+----------+----------+----------+----------+----------+----------+----------+----------+----------+----------+----------+----------+----------+----------+----------+----------+----------+----------+----------+----------+----------+----------+----------+----------+----------+----------+----------+----------+----------+----------+----------+----------+----------+----------+----------+----------+----------+----------+----------+----------+----------+----------+----------+----------+----------+----------+----------+----------+----------+----------+----------+----------+----------+----------+----------+----------+----------+----------+----------+----------+----------+----------+----------+----------+----------+----------+----------+----------+----------+----------+----------+----------+----------+----------+----------+----------+----------+----------+----------+----------+----------+----------+----------+----------+----------+----------+----------+----------+----------+----------+----------+----------+----------+----------+----------+----------+----------+----------+----------+----------+----------+----------+----------+----------+----------+----------+----------+----------+----------+----------+----------+----------+----------+----------+----------+----------+----------+----------+----------+----------+----------+----------+----------+----------+----------+----------+----------+----------+----------+----------+----------+----------+----------+----------+----------+----------+----------+----------+----------+----------+----------+----------+----------+----------+----------+----------+----------+----------+----------+----------+----------+----------+----------+----------+----------+----------+----------+----------+----------+----------+----------+----------+--------+-----+----------+---------------------+\n",
            "|_c0|RegionID|SizeRank|RegionType|2000-01-31|2000-02-29|2000-03-31|2000-04-30|2000-05-31|2000-06-30|2000-07-31|2000-08-31|2000-09-30|2000-10-31|2000-11-30|2000-12-31|2001-01-31|2001-02-28|2001-03-31|2001-04-30|2001-05-31|2001-06-30|2001-07-31|2001-08-31|2001-09-30|2001-10-31|2001-11-30|2001-12-31|2002-01-31|2002-02-28|2002-03-31|2002-04-30|2002-05-31|2002-06-30|2002-07-31|2002-08-31|2002-09-30|2002-10-31|2002-11-30|2002-12-31|2003-01-31|2003-02-28|2003-03-31|2003-04-30|2003-05-31|2003-06-30|2003-07-31|2003-08-31|2003-09-30|2003-10-31|2003-11-30|2003-12-31|2004-01-31|2004-02-29|2004-03-31|2004-04-30|2004-05-31|2004-06-30|2004-07-31|2004-08-31|2004-09-30|2004-10-31|2004-11-30|2004-12-31|2005-01-31|2005-02-28|2005-03-31|2005-04-30|2005-05-31|2005-06-30|2005-07-31|2005-08-31|2005-09-30|2005-10-31|2005-11-30|2005-12-31|2006-01-31|2006-02-28|2006-03-31|2006-04-30|2006-05-31|2006-06-30|2006-07-31|2006-08-31|2006-09-30|2006-10-31|2006-11-30|2006-12-31|2007-01-31|2007-02-28|2007-03-31|2007-04-30|2007-05-31|2007-06-30|2007-07-31|2007-08-31|2007-09-30|2007-10-31|2007-11-30|2007-12-31|2008-01-31|2008-02-29|2008-03-31|2008-04-30|2008-05-31|2008-06-30|2008-07-31|2008-08-31|2008-09-30|2008-10-31|2008-11-30|2008-12-31|2009-01-31|2009-02-28|2009-03-31|2009-04-30|2009-05-31|2009-06-30|2009-07-31|2009-08-31|2009-09-30|2009-10-31|2009-11-30|2009-12-31|2010-01-31|2010-02-28|2010-03-31|2010-04-30|2010-05-31|2010-06-30|2010-07-31|2010-08-31|2010-09-30|2010-10-31|2010-11-30|2010-12-31|2011-01-31|2011-02-28|2011-03-31|2011-04-30|2011-05-31|2011-06-30|2011-07-31|2011-08-31|2011-09-30|2011-10-31|2011-11-30|2011-12-31|2012-01-31|2012-02-29|2012-03-31|2012-04-30|2012-05-31|2012-06-30|2012-07-31|2012-08-31|2012-09-30|2012-10-31|2012-11-30|2012-12-31|2013-01-31|2013-02-28|2013-03-31|2013-04-30|2013-05-31|2013-06-30|2013-07-31|2013-08-31|2013-09-30|2013-10-31|2013-11-30|2013-12-31|2014-01-31|2014-02-28|2014-03-31|2014-04-30|2014-05-31|2014-06-30|2014-07-31|2014-08-31|2014-09-30|2014-10-31|2014-11-30|2014-12-31|   City |State|house_type|cost_percentile_range|\n",
            "+---+--------+--------+----------+----------+----------+----------+----------+----------+----------+----------+----------+----------+----------+----------+----------+----------+----------+----------+----------+----------+----------+----------+----------+----------+----------+----------+----------+----------+----------+----------+----------+----------+----------+----------+----------+----------+----------+----------+----------+----------+----------+----------+----------+----------+----------+----------+----------+----------+----------+----------+----------+----------+----------+----------+----------+----------+----------+----------+----------+----------+----------+----------+----------+----------+----------+----------+----------+----------+----------+----------+----------+----------+----------+----------+----------+----------+----------+----------+----------+----------+----------+----------+----------+----------+----------+----------+----------+----------+----------+----------+----------+----------+----------+----------+----------+----------+----------+----------+----------+----------+----------+----------+----------+----------+----------+----------+----------+----------+----------+----------+----------+----------+----------+----------+----------+----------+----------+----------+----------+----------+----------+----------+----------+----------+----------+----------+----------+----------+----------+----------+----------+----------+----------+----------+----------+----------+----------+----------+----------+----------+----------+----------+----------+----------+----------+----------+----------+----------+----------+----------+----------+----------+----------+----------+----------+----------+----------+----------+----------+----------+----------+----------+----------+----------+----------+----------+----------+----------+----------+----------+----------+----------+----------+----------+----------+----------+----------+----------+----------+----------+----------+----------+----------+--------+-----+----------+---------------------+\n",
            "|  1|  394913|       1|       Msa|  140565.0|  141355.0|  142038.0|  143419.0|  144711.0|  146087.0|  147558.0|  149094.0|  150695.0|  152250.0|  153735.0|  155134.0|  156492.0|  158013.0|  159501.0|  161071.0|  162557.0|  164188.0|  165808.0|  167563.0|  169338.0|  171268.0|  172999.0|  174667.0|  176375.0|  178152.0|  179936.0|  181665.0|  183458.0|  185434.0|  187566.0|  190197.0|  192994.0|  195830.0|  198326.0|  200715.0|  203081.0|  205559.0|  208296.0|  210887.0|  213493.0|  216013.0|  218730.0|  221432.0|  223877.0|  226111.0|  228123.0|  230100.0|  232260.0|  234450.0|  236812.0|  239221.0|  242049.0|  245078.0|  248305.0|  251487.0|  254848.0|  258163.0|  261372.0|  264294.0|  267136.0|  269863.0|  272757.0|  276178.0|  279876.0|  283517.0|  286903.0|  290296.0|  293632.0|  296998.0|  300043.0|  303040.0|  305548.0|  308116.0|  310256.0|  312414.0|  314276.0|  316088.0|  317223.0|  317726.0|  317585.0|  316979.0|  316121.0|  315083.0|  314079.0|  313416.0|  313399.0|  313486.0|  313407.0|  312516.0|  311255.0|  309965.0|  308679.0|  307774.0|  306755.0|  305740.0|  304966.0|  304257.0|  303204.0|  301711.0|  299431.0|  297262.0|  295004.0|  292929.0|  290714.0|  288234.0|  285756.0|  283547.0|  281340.0|  279182.0|  276980.0|  274747.0|  272861.0|  270948.0|  269177.0|  267364.0|  265955.0|  264875.0|  264140.0|  263745.0|  263667.0|  263874.0|  263746.0|  263638.0|  263409.0|  263524.0|  263514.0|  263167.0|  262388.0|  261172.0|  259777.0|  258353.0|  257383.0|  256582.0|  256022.0|  255106.0|  254168.0|  252880.0|  251590.0|  250365.0|  249200.0|  248110.0|  246850.0|  245730.0|  244745.0|  243824.0|  243077.0|  242389.0|  242071.0|  241872.0|  241618.0|  241246.0|  240910.0|  240691.0|  240776.0|  241061.0|  241576.0|  242246.0|  242943.0|  243850.0|  244876.0|  246095.0|  247325.0|  248455.0|  249489.0|  250657.0|  251913.0|  253021.0|  254211.0|  255153.0|  256429.0|  257583.0|  258802.0|  259674.0|  260168.0|  260548.0|  260863.0|  261213.0|  261389.0|  261752.0|New York|   NY|     Condo|                lower|\n",
            "+---+--------+--------+----------+----------+----------+----------+----------+----------+----------+----------+----------+----------+----------+----------+----------+----------+----------+----------+----------+----------+----------+----------+----------+----------+----------+----------+----------+----------+----------+----------+----------+----------+----------+----------+----------+----------+----------+----------+----------+----------+----------+----------+----------+----------+----------+----------+----------+----------+----------+----------+----------+----------+----------+----------+----------+----------+----------+----------+----------+----------+----------+----------+----------+----------+----------+----------+----------+----------+----------+----------+----------+----------+----------+----------+----------+----------+----------+----------+----------+----------+----------+----------+----------+----------+----------+----------+----------+----------+----------+----------+----------+----------+----------+----------+----------+----------+----------+----------+----------+----------+----------+----------+----------+----------+----------+----------+----------+----------+----------+----------+----------+----------+----------+----------+----------+----------+----------+----------+----------+----------+----------+----------+----------+----------+----------+----------+----------+----------+----------+----------+----------+----------+----------+----------+----------+----------+----------+----------+----------+----------+----------+----------+----------+----------+----------+----------+----------+----------+----------+----------+----------+----------+----------+----------+----------+----------+----------+----------+----------+----------+----------+----------+----------+----------+----------+----------+----------+----------+----------+----------+----------+----------+----------+----------+----------+----------+----------+----------+----------+----------+----------+----------+----------+--------+-----+----------+---------------------+\n",
            "only showing top 1 row\n",
            "\n"
          ]
        }
      ]
    },
    {
      "cell_type": "code",
      "source": [
        "housing_data.take(5)"
      ],
      "metadata": {
        "colab": {
          "base_uri": "https://localhost:8080/"
        },
        "id": "Buoc9wNGgibL",
        "outputId": "da420466-ac75-4ef3-8ab6-02e1b579f04e"
      },
      "execution_count": 19,
      "outputs": [
        {
          "output_type": "execute_result",
          "data": {
            "text/plain": [
              "[Row(_c0='1', RegionID='394913', SizeRank='1', RegionType='Msa', 2000-01-31='140565.0', 2000-02-29='141355.0', 2000-03-31='142038.0', 2000-04-30='143419.0', 2000-05-31='144711.0', 2000-06-30='146087.0', 2000-07-31='147558.0', 2000-08-31='149094.0', 2000-09-30='150695.0', 2000-10-31='152250.0', 2000-11-30='153735.0', 2000-12-31='155134.0', 2001-01-31='156492.0', 2001-02-28='158013.0', 2001-03-31='159501.0', 2001-04-30='161071.0', 2001-05-31='162557.0', 2001-06-30='164188.0', 2001-07-31='165808.0', 2001-08-31='167563.0', 2001-09-30='169338.0', 2001-10-31='171268.0', 2001-11-30='172999.0', 2001-12-31='174667.0', 2002-01-31='176375.0', 2002-02-28='178152.0', 2002-03-31='179936.0', 2002-04-30='181665.0', 2002-05-31='183458.0', 2002-06-30='185434.0', 2002-07-31='187566.0', 2002-08-31='190197.0', 2002-09-30='192994.0', 2002-10-31='195830.0', 2002-11-30='198326.0', 2002-12-31='200715.0', 2003-01-31='203081.0', 2003-02-28='205559.0', 2003-03-31='208296.0', 2003-04-30='210887.0', 2003-05-31='213493.0', 2003-06-30='216013.0', 2003-07-31='218730.0', 2003-08-31='221432.0', 2003-09-30='223877.0', 2003-10-31='226111.0', 2003-11-30='228123.0', 2003-12-31='230100.0', 2004-01-31='232260.0', 2004-02-29='234450.0', 2004-03-31='236812.0', 2004-04-30='239221.0', 2004-05-31='242049.0', 2004-06-30='245078.0', 2004-07-31='248305.0', 2004-08-31='251487.0', 2004-09-30='254848.0', 2004-10-31='258163.0', 2004-11-30='261372.0', 2004-12-31='264294.0', 2005-01-31='267136.0', 2005-02-28='269863.0', 2005-03-31='272757.0', 2005-04-30='276178.0', 2005-05-31='279876.0', 2005-06-30='283517.0', 2005-07-31='286903.0', 2005-08-31='290296.0', 2005-09-30='293632.0', 2005-10-31='296998.0', 2005-11-30='300043.0', 2005-12-31='303040.0', 2006-01-31='305548.0', 2006-02-28='308116.0', 2006-03-31='310256.0', 2006-04-30='312414.0', 2006-05-31='314276.0', 2006-06-30='316088.0', 2006-07-31='317223.0', 2006-08-31='317726.0', 2006-09-30='317585.0', 2006-10-31='316979.0', 2006-11-30='316121.0', 2006-12-31='315083.0', 2007-01-31='314079.0', 2007-02-28='313416.0', 2007-03-31='313399.0', 2007-04-30='313486.0', 2007-05-31='313407.0', 2007-06-30='312516.0', 2007-07-31='311255.0', 2007-08-31='309965.0', 2007-09-30='308679.0', 2007-10-31='307774.0', 2007-11-30='306755.0', 2007-12-31='305740.0', 2008-01-31='304966.0', 2008-02-29='304257.0', 2008-03-31='303204.0', 2008-04-30='301711.0', 2008-05-31='299431.0', 2008-06-30='297262.0', 2008-07-31='295004.0', 2008-08-31='292929.0', 2008-09-30='290714.0', 2008-10-31='288234.0', 2008-11-30='285756.0', 2008-12-31='283547.0', 2009-01-31='281340.0', 2009-02-28='279182.0', 2009-03-31='276980.0', 2009-04-30='274747.0', 2009-05-31='272861.0', 2009-06-30='270948.0', 2009-07-31='269177.0', 2009-08-31='267364.0', 2009-09-30='265955.0', 2009-10-31='264875.0', 2009-11-30='264140.0', 2009-12-31='263745.0', 2010-01-31='263667.0', 2010-02-28='263874.0', 2010-03-31='263746.0', 2010-04-30='263638.0', 2010-05-31='263409.0', 2010-06-30='263524.0', 2010-07-31='263514.0', 2010-08-31='263167.0', 2010-09-30='262388.0', 2010-10-31='261172.0', 2010-11-30='259777.0', 2010-12-31='258353.0', 2011-01-31='257383.0', 2011-02-28='256582.0', 2011-03-31='256022.0', 2011-04-30='255106.0', 2011-05-31='254168.0', 2011-06-30='252880.0', 2011-07-31='251590.0', 2011-08-31='250365.0', 2011-09-30='249200.0', 2011-10-31='248110.0', 2011-11-30='246850.0', 2011-12-31='245730.0', 2012-01-31='244745.0', 2012-02-29='243824.0', 2012-03-31='243077.0', 2012-04-30='242389.0', 2012-05-31='242071.0', 2012-06-30='241872.0', 2012-07-31='241618.0', 2012-08-31='241246.0', 2012-09-30='240910.0', 2012-10-31='240691.0', 2012-11-30='240776.0', 2012-12-31='241061.0', 2013-01-31='241576.0', 2013-02-28='242246.0', 2013-03-31='242943.0', 2013-04-30='243850.0', 2013-05-31='244876.0', 2013-06-30='246095.0', 2013-07-31='247325.0', 2013-08-31='248455.0', 2013-09-30='249489.0', 2013-10-31='250657.0', 2013-11-30='251913.0', 2013-12-31='253021.0', 2014-01-31='254211.0', 2014-02-28='255153.0', 2014-03-31='256429.0', 2014-04-30='257583.0', 2014-05-31='258802.0', 2014-06-30='259674.0', 2014-07-31='260168.0', 2014-08-31='260548.0', 2014-09-30='260863.0', 2014-10-31='261213.0', 2014-11-30='261389.0', 2014-12-31='261752.0', City ='New York', State='NY', house_type='Condo', cost_percentile_range='lower'),\n",
              " Row(_c0='2', RegionID='753899', SizeRank='2', RegionType='Msa', 2000-01-31='150920.0', 2000-02-29='151319.0', 2000-03-31='152080.0', 2000-04-30='153511.0', 2000-05-31='155108.0', 2000-06-30='156605.0', 2000-07-31='158164.0', 2000-08-31='159847.0', 2000-09-30='161438.0', 2000-10-31='162836.0', 2000-11-30='164145.0', 2000-12-31='165494.0', 2001-01-31='166475.0', 2001-02-28='167478.0', 2001-03-31='168613.0', 2001-04-30='170297.0', 2001-05-31='171974.0', 2001-06-30='173593.0', 2001-07-31='175279.0', 2001-08-31='177087.0', 2001-09-30='178842.0', 2001-10-31='180608.0', 2001-11-30='182151.0', 2001-12-31='183834.0', 2002-01-31='185173.0', 2002-02-28='186730.0', 2002-03-31='188583.0', 2002-04-30='190975.0', 2002-05-31='193649.0', 2002-06-30='196322.0', 2002-07-31='199730.0', 2002-08-31='203310.0', 2002-09-30='207056.0', 2002-10-31='210411.0', 2002-11-30='213755.0', 2002-12-31='216996.0', 2003-01-31='219636.0', 2003-02-28='222044.0', 2003-03-31='224814.0', 2003-04-30='227864.0', 2003-05-31='231717.0', 2003-06-30='234771.0', 2003-07-31='238957.0', 2003-08-31='243309.0', 2003-09-30='248336.0', 2003-10-31='252331.0', 2003-11-30='256219.0', 2003-12-31='260257.0', 2004-01-31='265016.0', 2004-02-29='270074.0', 2004-03-31='275589.0', 2004-04-30='282138.0', 2004-05-31='290301.0', 2004-06-30='298337.0', 2004-07-31='305552.0', 2004-08-31='311807.0', 2004-09-30='318709.0', 2004-10-31='325497.0', 2004-11-30='330193.0', 2004-12-31='334628.0', 2005-01-31='338381.0', 2005-02-28='343825.0', 2005-03-31='349283.0', 2005-04-30='355067.0', 2005-05-31='360298.0', 2005-06-30='365678.0', 2005-07-31='371820.0', 2005-08-31='378407.0', 2005-09-30='385020.0', 2005-10-31='392012.0', 2005-11-30='396868.0', 2005-12-31='401643.0', 2006-01-31='405696.0', 2006-02-28='409534.0', 2006-03-31='413257.0', 2006-04-30='416338.0', 2006-05-31='420559.0', 2006-06-30='423902.0', 2006-07-31='425718.0', 2006-08-31='427340.0', 2006-09-30='426680.0', 2006-10-31='427145.0', 2006-11-30='427026.0', 2006-12-31='427975.0', 2007-01-31='428568.0', 2007-02-28='428672.0', 2007-03-31='428078.0', 2007-04-30='427424.0', 2007-05-31='425549.0', 2007-06-30='423674.0', 2007-07-31='419889.0', 2007-08-31='415782.0', 2007-09-30='410823.0', 2007-10-31='405741.0', 2007-11-30='401730.0', 2007-12-31='396907.0', 2008-01-31='392906.0', 2008-02-29='386901.0', 2008-03-31='379560.0', 2008-04-30='369575.0', 2008-05-31='358983.0', 2008-06-30='349295.0', 2008-07-31='339892.0', 2008-08-31='331251.0', 2008-09-30='324589.0', 2008-10-31='318326.0', 2008-11-30='311855.0', 2008-12-31='303553.0', 2009-01-31='297519.0', 2009-02-28='293759.0', 2009-03-31='291081.0', 2009-04-30='288025.0', 2009-05-31='284985.0', 2009-06-30='281403.0', 2009-07-31='278748.0', 2009-08-31='277029.0', 2009-09-30='276377.0', 2009-10-31='276126.0', 2009-11-30='277230.0', 2009-12-31='280015.0', 2010-01-31='281075.0', 2010-02-28='280622.0', 2010-03-31='280856.0', 2010-04-30='282790.0', 2010-05-31='285548.0', 2010-06-30='285100.0', 2010-07-31='283631.0', 2010-08-31='280601.0', 2010-09-30='278174.0', 2010-10-31='275837.0', 2010-11-30='273680.0', 2010-12-31='273052.0', 2011-01-31='272686.0', 2011-02-28='273154.0', 2011-03-31='272087.0', 2011-04-30='271149.0', 2011-05-31='268032.0', 2011-06-30='267477.0', 2011-07-31='266712.0', 2011-08-31='265629.0', 2011-09-30='262882.0', 2011-10-31='260321.0', 2011-11-30='260016.0', 2011-12-31='260089.0', 2012-01-31='259790.0', 2012-02-29='259388.0', 2012-03-31='259037.0', 2012-04-30='259422.0', 2012-05-31='260208.0', 2012-06-30='261476.0', 2012-07-31='263213.0', 2012-08-31='264571.0', 2012-09-30='266093.0', 2012-10-31='268691.0', 2012-11-30='271650.0', 2012-12-31='276172.0', 2013-01-31='280271.0', 2013-02-28='286429.0', 2013-03-31='292436.0', 2013-04-30='299264.0', 2013-05-31='304917.0', 2013-06-30='310947.0', 2013-07-31='316455.0', 2013-08-31='322443.0', 2013-09-30='327403.0', 2013-10-31='331322.0', 2013-11-30='335374.0', 2013-12-31='338933.0', 2014-01-31='343157.0', 2014-02-28='345159.0', 2014-03-31='346471.0', 2014-04-30='346336.0', 2014-05-31='346964.0', 2014-06-30='347417.0', 2014-07-31='348356.0', 2014-08-31='347823.0', 2014-09-30='347893.0', 2014-10-31='348699.0', 2014-11-30='351000.0', 2014-12-31='353667.0', City ='Los Angeles-Long Beach-Anaheim', State='CA', house_type='Condo', cost_percentile_range='lower'),\n",
              " Row(_c0='3', RegionID='394463', SizeRank='3', RegionType='Msa', 2000-01-31='106839.0', 2000-02-29='107099.0', 2000-03-31='107422.0', 2000-04-30='108061.0', 2000-05-31='108714.0', 2000-06-30='109349.0', 2000-07-31='110033.0', 2000-08-31='110844.0', 2000-09-30='111711.0', 2000-10-31='112603.0', 2000-11-30='113395.0', 2000-12-31='114149.0', 2001-01-31='114839.0', 2001-02-28='115449.0', 2001-03-31='116144.0', 2001-04-30='116857.0', 2001-05-31='117708.0', 2001-06-30='118480.0', 2001-07-31='119223.0', 2001-08-31='120012.0', 2001-09-30='120814.0', 2001-10-31='121678.0', 2001-11-30='122358.0', 2001-12-31='122963.0', 2002-01-31='123473.0', 2002-02-28='124099.0', 2002-03-31='124845.0', 2002-04-30='125464.0', 2002-05-31='126156.0', 2002-06-30='126779.0', 2002-07-31='127626.0', 2002-08-31='128500.0', 2002-09-30='129379.0', 2002-10-31='130210.0', 2002-11-30='130783.0', 2002-12-31='131458.0', 2003-01-31='132075.0', 2003-02-28='132855.0', 2003-03-31='133558.0', 2003-04-30='134374.0', 2003-05-31='135082.0', 2003-06-30='135716.0', 2003-07-31='136278.0', 2003-08-31='137001.0', 2003-09-30='137867.0', 2003-10-31='138713.0', 2003-11-30='139431.0', 2003-12-31='140067.0', 2004-01-31='140863.0', 2004-02-29='141650.0', 2004-03-31='142439.0', 2004-04-30='143292.0', 2004-05-31='144230.0', 2004-06-30='145326.0', 2004-07-31='146330.0', 2004-08-31='147362.0', 2004-09-30='148239.0', 2004-10-31='149169.0', 2004-11-30='150083.0', 2004-12-31='151084.0', 2005-01-31='152030.0', 2005-02-28='153070.0', 2005-03-31='154120.0', 2005-04-30='155288.0', 2005-05-31='156454.0', 2005-06-30='157652.0', 2005-07-31='158752.0', 2005-08-31='159823.0', 2005-09-30='160949.0', 2005-10-31='162034.0', 2005-11-30='162967.0', 2005-12-31='163856.0', 2006-01-31='164710.0', 2006-02-28='165568.0', 2006-03-31='166425.0', 2006-04-30='167182.0', 2006-05-31='168013.0', 2006-06-30='168534.0', 2006-07-31='169014.0', 2006-08-31='169386.0', 2006-09-30='169723.0', 2006-10-31='169921.0', 2006-11-30='170081.0', 2006-12-31='170341.0', 2007-01-31='170773.0', 2007-02-28='171177.0', 2007-03-31='171467.0', 2007-04-30='171551.0', 2007-05-31='171485.0', 2007-06-30='171307.0', 2007-07-31='171016.0', 2007-08-31='170743.0', 2007-09-30='170240.0', 2007-10-31='169779.0', 2007-11-30='169298.0', 2007-12-31='168708.0', 2008-01-31='168061.0', 2008-02-29=None, 2008-03-31=None, 2008-04-30='164779.0', 2008-05-31=None, 2008-06-30='163207.0', 2008-07-31='162668.0', 2008-08-31='160627.0', 2008-09-30='159397.0', 2008-10-31='157199.0', 2008-11-30='155492.0', 2008-12-31='153147.0', 2009-01-31='150508.0', 2009-02-28='148631.0', 2009-03-31='146696.0', 2009-04-30='145866.0', 2009-05-31='144398.0', 2009-06-30='143369.0', 2009-07-31='142250.0', 2009-08-31='141201.0', 2009-09-30='139514.0', 2009-10-31='138017.0', 2009-11-30='136653.0', 2009-12-31='136228.0', 2010-01-31='135528.0', 2010-02-28='135290.0', 2010-03-31='134386.0', 2010-04-30='134782.0', 2010-05-31='134376.0', 2010-06-30='134842.0', 2010-07-31='133286.0', 2010-08-31='132374.0', 2010-09-30='130651.0', 2010-10-31='129513.0', 2010-11-30='127566.0', 2010-12-31='125853.0', 2011-01-31='124239.0', 2011-02-28='123000.0', 2011-03-31='122178.0', 2011-04-30='121095.0', 2011-05-31='120521.0', 2011-06-30='119500.0', 2011-07-31='119146.0', 2011-08-31='118233.0', 2011-09-30='117419.0', 2011-10-31='115771.0', 2011-11-30='114770.0', 2011-12-31='113265.0', 2012-01-31='112502.0', 2012-02-29='111089.0', 2012-03-31='110844.0', 2012-04-30='110460.0', 2012-05-31='110540.0', 2012-06-30='110294.0', 2012-07-31='109677.0', 2012-08-31='109052.0', 2012-09-30='108383.0', 2012-10-31='108517.0', 2012-11-30='108678.0', 2012-12-31='108755.0', 2013-01-31='109103.0', 2013-02-28='109671.0', 2013-03-31='110207.0', 2013-04-30='110940.0', 2013-05-31='111669.0', 2013-06-30='112923.0', 2013-07-31='113930.0', 2013-08-31='115153.0', 2013-09-30='116082.0', 2013-10-31='117400.0', 2013-11-30='117975.0', 2013-12-31='118788.0', 2014-01-31='119166.0', 2014-02-28='119994.0', 2014-03-31='120454.0', 2014-04-30='120795.0', 2014-05-31='121319.0', 2014-06-30='122122.0', 2014-07-31='122839.0', 2014-08-31='123156.0', 2014-09-30='123520.0', 2014-10-31='123766.0', 2014-11-30='124127.0', 2014-12-31='124530.0', City ='Chicago', State='IL', house_type='Condo', cost_percentile_range='lower'),\n",
              " Row(_c0='4', RegionID='394514', SizeRank='4', RegionType='Msa', 2000-01-31='83372.0', 2000-02-29='83445.0', 2000-03-31='83482.0', 2000-04-30='83617.0', 2000-05-31='83773.0', 2000-06-30='83922.0', 2000-07-31='84093.0', 2000-08-31='84357.0', 2000-09-30='84662.0', 2000-10-31='84988.0', 2000-11-30='85299.0', 2000-12-31='85663.0', 2001-01-31='85835.0', 2001-02-28='85626.0', 2001-03-31='85465.0', 2001-04-30='85442.0', 2001-05-31='85651.0', 2001-06-30='85721.0', 2001-07-31='85800.0', 2001-08-31='86041.0', 2001-09-30='86234.0', 2001-10-31='86384.0', 2001-11-30='86432.0', 2001-12-31='86524.0', 2002-01-31='86604.0', 2002-02-28='86804.0', 2002-03-31='87061.0', 2002-04-30='87437.0', 2002-05-31='87779.0', 2002-06-30='88286.0', 2002-07-31='88730.0', 2002-08-31='89196.0', 2002-09-30='89526.0', 2002-10-31='89845.0', 2002-11-30='90137.0', 2002-12-31='90408.0', 2003-01-31='90641.0', 2003-02-28='90800.0', 2003-03-31='91004.0', 2003-04-30='91177.0', 2003-05-31='91316.0', 2003-06-30='91458.0', 2003-07-31='91542.0', 2003-08-31='91710.0', 2003-09-30='91878.0', 2003-10-31='92108.0', 2003-11-30='92293.0', 2003-12-31='92309.0', 2004-01-31='92861.0', 2004-02-29='93882.0', 2004-03-31=None, 2004-04-30='96880.0', 2004-05-31='97644.0', 2004-06-30='97946.0', 2004-07-31='98092.0', 2004-08-31='98416.0', 2004-09-30='98693.0', 2004-10-31='98962.0', 2004-11-30='99140.0', 2004-12-31='99283.0', 2005-01-31='99869.0', 2005-02-28='100172.0', 2005-03-31='100503.0', 2005-04-30='100639.0', 2005-05-31='101014.0', 2005-06-30='101386.0', 2005-07-31='101599.0', 2005-08-31='101829.0', 2005-09-30='102072.0', 2005-10-31='102066.0', 2005-11-30='102140.0', 2005-12-31='102044.0', 2006-01-31='102097.0', 2006-02-28='102308.0', 2006-03-31='102578.0', 2006-04-30='103008.0', 2006-05-31='103453.0', 2006-06-30='103862.0', 2006-07-31='104073.0', 2006-08-31='104130.0', 2006-09-30='104306.0', 2006-10-31='104875.0', 2006-11-30='105237.0', 2006-12-31='105617.0', 2007-01-31='105407.0', 2007-02-28='105150.0', 2007-03-31='104869.0', 2007-04-30='105080.0', 2007-05-31='105458.0', 2007-06-30='105782.0', 2007-07-31='106030.0', 2007-08-31='106307.0', 2007-09-30='106719.0', 2007-10-31='106933.0', 2007-11-30='107053.0', 2007-12-31='107139.0', 2008-01-31='106461.0', 2008-02-29='105582.0', 2008-03-31='104518.0', 2008-04-30='104122.0', 2008-05-31='103791.0', 2008-06-30='103523.0', 2008-07-31='103363.0', 2008-08-31='102875.0', 2008-09-30='102141.0', 2008-10-31='101231.0', 2008-11-30='100497.0', 2008-12-31='100048.0', 2009-01-31='99635.0', 2009-02-28='99656.0', 2009-03-31='99702.0', 2009-04-30='99950.0', 2009-05-31='100087.0', 2009-06-30='100054.0', 2009-07-31='100056.0', 2009-08-31='99801.0', 2009-09-30='99698.0', 2009-10-31='99568.0', 2009-11-30='99904.0', 2009-12-31='100145.0', 2010-01-31='100067.0', 2010-02-28='99846.0', 2010-03-31='99624.0', 2010-04-30='99828.0', 2010-05-31='99912.0', 2010-06-30='99985.0', 2010-07-31='99611.0', 2010-08-31='98985.0', 2010-09-30='98154.0', 2010-10-31='97483.0', 2010-11-30='96882.0', 2010-12-31='96580.0', 2011-01-31='96248.0', 2011-02-28='95817.0', 2011-03-31='95403.0', 2011-04-30='94896.0', 2011-05-31='94574.0', 2011-06-30='94128.0', 2011-07-31='94010.0', 2011-08-31='93812.0', 2011-09-30='93796.0', 2011-10-31='93665.0', 2011-11-30='93592.0', 2011-12-31='93304.0', 2012-01-31='93035.0', 2012-02-29='93202.0', 2012-03-31='93490.0', 2012-04-30='93838.0', 2012-05-31='94092.0', 2012-06-30='94450.0', 2012-07-31='95004.0', 2012-08-31='95293.0', 2012-09-30='95536.0', 2012-10-31='95723.0', 2012-11-30='96154.0', 2012-12-31='96566.0', 2013-01-31='96969.0', 2013-02-28='97292.0', 2013-03-31='97815.0', 2013-04-30='98484.0', 2013-05-31='99248.0', 2013-06-30='100063.0', 2013-07-31='100899.0', 2013-08-31='101598.0', 2013-09-30='102389.0', 2013-10-31='103264.0', 2013-11-30='104268.0', 2013-12-31='105138.0', 2014-01-31='105671.0', 2014-02-28='106259.0', 2014-03-31='106813.0', 2014-04-30='107510.0', 2014-05-31='108239.0', 2014-06-30='109105.0', 2014-07-31='109616.0', 2014-08-31='110158.0', 2014-09-30='110598.0', 2014-10-31='111454.0', 2014-11-30='112459.0', 2014-12-31='113519.0', City ='Dallas-Fort Worth', State='TX', house_type='Condo', cost_percentile_range='lower'),\n",
              " Row(_c0='5', RegionID='394974', SizeRank='5', RegionType='Msa', 2000-01-31='75530.0', 2000-02-29='75779.0', 2000-03-31='75940.0', 2000-04-30='76326.0', 2000-05-31='76676.0', 2000-06-30='77033.0', 2000-07-31='77376.0', 2000-08-31='77688.0', 2000-09-30='78051.0', 2000-10-31='78400.0', 2000-11-30='78742.0', 2000-12-31='79054.0', 2001-01-31='79378.0', 2001-02-28='79746.0', 2001-03-31='80167.0', 2001-04-30='80613.0', 2001-05-31='81018.0', 2001-06-30='81436.0', 2001-07-31='81903.0', 2001-08-31='82421.0', 2001-09-30='82964.0', 2001-10-31='83459.0', 2001-11-30='83981.0', 2001-12-31='84402.0', 2002-01-31='84832.0', 2002-02-28='85256.0', 2002-03-31='85787.0', 2002-04-30='86373.0', 2002-05-31='86957.0', 2002-06-30='87616.0', 2002-07-31='88342.0', 2002-08-31='89231.0', 2002-09-30='90178.0', 2002-10-31='91114.0', 2002-11-30='91917.0', 2002-12-31='92726.0', 2003-01-31='93495.0', 2003-02-28='94304.0', 2003-03-31='95050.0', 2003-04-30='95918.0', 2003-05-31='96860.0', 2003-06-30='97921.0', 2003-07-31='99088.0', 2003-08-31='100325.0', 2003-09-30='101582.0', 2003-10-31='102686.0', 2003-11-30='103718.0', 2003-12-31='104610.0', 2004-01-31='105496.0', 2004-02-29='106387.0', 2004-03-31='107329.0', 2004-04-30='108367.0', 2004-05-31='109623.0', 2004-06-30='111144.0', 2004-07-31='112925.0', 2004-08-31='114854.0', 2004-09-30='116540.0', 2004-10-31='117892.0', 2004-11-30='119027.0', 2004-12-31='120330.0', 2005-01-31='121815.0', 2005-02-28='123058.0', 2005-03-31='124267.0', 2005-04-30='125506.0', 2005-05-31='127175.0', 2005-06-30='129034.0', 2005-07-31='131049.0', 2005-08-31='133002.0', 2005-09-30='134807.0', 2005-10-31='136514.0', 2005-11-30='138022.0', 2005-12-31='139442.0', 2006-01-31='140501.0', 2006-02-28='141506.0', 2006-03-31='142440.0', 2006-04-30='143614.0', 2006-05-31='144835.0', 2006-06-30='146092.0', 2006-07-31='147165.0', 2006-08-31='147912.0', 2006-09-30='148358.0', 2006-10-31='148612.0', 2006-11-30='148747.0', 2006-12-31='148857.0', 2007-01-31='148964.0', 2007-02-28='149178.0', 2007-03-31='149633.0', 2007-04-30='150043.0', 2007-05-31='150675.0', 2007-06-30='151067.0', 2007-07-31='151401.0', 2007-08-31='151286.0', 2007-09-30='150982.0', 2007-10-31='150832.0', 2007-11-30='150704.0', 2007-12-31='150567.0', 2008-01-31='150074.0', 2008-02-29='150000.0', 2008-03-31='149885.0', 2008-04-30='149929.0', 2008-05-31='149417.0', 2008-06-30='148720.0', 2008-07-31='147690.0', 2008-08-31='146636.0', 2008-09-30='145572.0', 2008-10-31='144682.0', 2008-11-30='143820.0', 2008-12-31='142924.0', 2009-01-31='141922.0', 2009-02-28='141189.0', 2009-03-31='140857.0', 2009-04-30='140734.0', 2009-05-31='140437.0', 2009-06-30='139926.0', 2009-07-31='139281.0', 2009-08-31='138737.0', 2009-09-30='138253.0', 2009-10-31='138033.0', 2009-11-30='138024.0', 2009-12-31='138018.0', 2010-01-31='138170.0', 2010-02-28='138227.0', 2010-03-31='138397.0', 2010-04-30='138547.0', 2010-05-31='138752.0', 2010-06-30='138865.0', 2010-07-31='138579.0', 2010-08-31='137822.0', 2010-09-30='136574.0', 2010-10-31='135264.0', 2010-11-30='134046.0', 2010-12-31='133096.0', 2011-01-31='132361.0', 2011-02-28='131876.0', 2011-03-31='131601.0', 2011-04-30='131018.0', 2011-05-31='130165.0', 2011-06-30='129002.0', 2011-07-31='127967.0', 2011-08-31='127068.0', 2011-09-30='126380.0', 2011-10-31='125799.0', 2011-11-30='125289.0', 2011-12-31='124821.0', 2012-01-31='124324.0', 2012-02-29='123821.0', 2012-03-31='123589.0', 2012-04-30='123492.0', 2012-05-31='123373.0', 2012-06-30='122982.0', 2012-07-31='122519.0', 2012-08-31='122067.0', 2012-09-30='121779.0', 2012-10-31='121509.0', 2012-11-30='121370.0', 2012-12-31='121246.0', 2013-01-31='121294.0', 2013-02-28='121356.0', 2013-03-31='121575.0', 2013-04-30='121883.0', 2013-05-31='122416.0', 2013-06-30='122968.0', 2013-07-31='123422.0', 2013-08-31='123673.0', 2013-09-30='123880.0', 2013-10-31='124102.0', 2013-11-30='124430.0', 2013-12-31='124686.0', 2014-01-31='125030.0', 2014-02-28='125325.0', 2014-03-31='125536.0', 2014-04-30='125455.0', 2014-05-31='125445.0', 2014-06-30='125483.0', 2014-07-31='125642.0', 2014-08-31='125619.0', 2014-09-30='125583.0', 2014-10-31='125556.0', 2014-11-30='125647.0', 2014-12-31='125837.0', City ='Philadelphia', State='PA', house_type='Condo', cost_percentile_range='lower')]"
            ]
          },
          "metadata": {},
          "execution_count": 19
        }
      ]
    },
    {
      "cell_type": "code",
      "source": [
        "#out_path = \"data/sparkify_log_small.csv\"\n",
        "#housing_data.write.save(out_path, format=\"csv\", header=True)"
      ],
      "metadata": {
        "id": "pvVwfP3dgxOn"
      },
      "execution_count": null,
      "outputs": []
    },
    {
      "cell_type": "code",
      "source": [
        "crime_data_path = \"/content/gdrive/My Drive/WWCode Python Workshop/crime_data.csv\"\n",
        "\n",
        "crime_data = spark.read.csv(crime_data_path, header=True)"
      ],
      "metadata": {
        "id": "cBza8ON2g8GY"
      },
      "execution_count": 20,
      "outputs": []
    },
    {
      "cell_type": "code",
      "source": [
        "crime_data.printSchema()"
      ],
      "metadata": {
        "colab": {
          "base_uri": "https://localhost:8080/"
        },
        "id": "BTJPdAJbhV5K",
        "outputId": "6cefb0e1-78c8-416f-d976-cefb86f67ced"
      },
      "execution_count": 21,
      "outputs": [
        {
          "output_type": "stream",
          "name": "stdout",
          "text": [
            "root\n",
            " |-- _c0: string (nullable = true)\n",
            " |-- unique_key: string (nullable = true)\n",
            " |-- ind_id: string (nullable = true)\n",
            " |-- reportyear: string (nullable = true)\n",
            " |-- race_eth_code: string (nullable = true)\n",
            " |-- race_eth_name: string (nullable = true)\n",
            " |-- geotype: string (nullable = true)\n",
            " |-- geotypevalue: string (nullable = true)\n",
            " |-- geoname: string (nullable = true)\n",
            " |-- county_fips: string (nullable = true)\n",
            " |-- county_name: string (nullable = true)\n",
            " |-- region_code: string (nullable = true)\n",
            " |-- region_name: string (nullable = true)\n",
            " |-- strata_name_code: string (nullable = true)\n",
            " |-- strata_level_name_code: string (nullable = true)\n",
            " |-- strata_level_name: string (nullable = true)\n",
            " |-- numerator: string (nullable = true)\n",
            " |-- denominator: string (nullable = true)\n",
            " |-- rate: string (nullable = true)\n",
            " |-- ll_95ci: string (nullable = true)\n",
            " |-- ul_95ci: string (nullable = true)\n",
            " |-- se: string (nullable = true)\n",
            " |-- rse: string (nullable = true)\n",
            " |-- ca_decile: string (nullable = true)\n",
            " |-- ca_rr: string (nullable = true)\n",
            " |-- dof_population: string (nullable = true)\n",
            "\n"
          ]
        }
      ]
    },
    {
      "cell_type": "code",
      "source": [
        "crime_data.take(2)"
      ],
      "metadata": {
        "colab": {
          "base_uri": "https://localhost:8080/"
        },
        "id": "M6385jgwhYUX",
        "outputId": "bb85f24a-4798-4a93-ef8d-75092d9bfc1f"
      },
      "execution_count": 22,
      "outputs": [
        {
          "output_type": "execute_result",
          "data": {
            "text/plain": [
              "[Row(_c0='0', unique_key='0', ind_id='752', reportyear='2000.0', race_eth_code='9.0', race_eth_name='Total', geotype='CA', geotypevalue='6.0', geoname='California', county_fips=None, county_name=None, region_code=None, region_name=None, strata_name_code='1.0', strata_level_name_code='1.0', strata_level_name='Aggravated assault', numerator='138325.0', denominator='33847694.0', rate=None, ll_95ci=None, ul_95ci=None, se=None, rse=None, ca_decile=None, ca_rr=None, dof_population='33873086.0'),\n",
              " Row(_c0='1', unique_key='1', ind_id='752', reportyear='2000.0', race_eth_code='9.0', race_eth_name='Total', geotype='CA', geotypevalue='6.0', geoname='California', county_fips=None, county_name=None, region_code=None, region_name=None, strata_name_code='1.0', strata_level_name_code='2.0', strata_level_name='Forcible rape', numerator='9784.0', denominator='33847694.0', rate=None, ll_95ci=None, ul_95ci=None, se=None, rse=None, ca_decile=None, ca_rr=None, dof_population='33873086.0')]"
            ]
          },
          "metadata": {},
          "execution_count": 22
        }
      ]
    },
    {
      "cell_type": "code",
      "source": [
        "crime_data.select(\"numerator\").show()"
      ],
      "metadata": {
        "colab": {
          "base_uri": "https://localhost:8080/"
        },
        "id": "u65vC3ZlhaJ7",
        "outputId": "17fea4ee-b8d2-404c-b69c-ae99ccc6fd4f"
      },
      "execution_count": 23,
      "outputs": [
        {
          "output_type": "stream",
          "name": "stdout",
          "text": [
            "+---------+\n",
            "|numerator|\n",
            "+---------+\n",
            "| 138325.0|\n",
            "|   9784.0|\n",
            "|   2079.0|\n",
            "|  60237.0|\n",
            "| 210448.0|\n",
            "|   5457.0|\n",
            "|    568.0|\n",
            "|    110.0|\n",
            "|   3368.0|\n",
            "|   9503.0|\n",
            "|      9.0|\n",
            "|      1.0|\n",
            "|     null|\n",
            "|     null|\n",
            "|     10.0|\n",
            "|    153.0|\n",
            "|     22.0|\n",
            "|      1.0|\n",
            "|      3.0|\n",
            "|    179.0|\n",
            "+---------+\n",
            "only showing top 20 rows\n",
            "\n"
          ]
        }
      ]
    },
    {
      "cell_type": "code",
      "source": [
        "from pyspark.sql.functions import col"
      ],
      "metadata": {
        "id": "UcJMCsXqHv6H"
      },
      "execution_count": 26,
      "outputs": []
    },
    {
      "cell_type": "code",
      "source": [
        "from pyspark.sql.types import IntegerType"
      ],
      "metadata": {
        "id": "zjwmkiGIJHRT"
      },
      "execution_count": 27,
      "outputs": []
    },
    {
      "cell_type": "code",
      "source": [
        "crime_data.select(col(\"reportyear\").cast(IntegerType())).printSchema()"
      ],
      "metadata": {
        "colab": {
          "base_uri": "https://localhost:8080/"
        },
        "id": "OKFvc20hH6i4",
        "outputId": "605b3a65-24ae-4bad-8fbd-b2cbbeff4d1c"
      },
      "execution_count": 30,
      "outputs": [
        {
          "output_type": "stream",
          "name": "stdout",
          "text": [
            "root\n",
            " |-- reportyear: integer (nullable = true)\n",
            "\n"
          ]
        }
      ]
    },
    {
      "cell_type": "code",
      "source": [
        "crime_data.take(1)"
      ],
      "metadata": {
        "colab": {
          "base_uri": "https://localhost:8080/"
        },
        "id": "xWtKyNHNhcOT",
        "outputId": "6774f2d8-ca1c-4391-c05d-cfde8d190b96"
      },
      "execution_count": 31,
      "outputs": [
        {
          "output_type": "execute_result",
          "data": {
            "text/plain": [
              "[Row(_c0='0', unique_key='0', ind_id='752', reportyear='2000.0', race_eth_code='9.0', race_eth_name='Total', geotype='CA', geotypevalue='6.0', geoname='California', county_fips=None, county_name=None, region_code=None, region_name=None, strata_name_code='1.0', strata_level_name_code='1.0', strata_level_name='Aggravated assault', numerator='138325.0', denominator='33847694.0', rate=None, ll_95ci=None, ul_95ci=None, se=None, rse=None, ca_decile=None, ca_rr=None, dof_population='33873086.0')]"
            ]
          },
          "metadata": {},
          "execution_count": 31
        }
      ]
    },
    {
      "cell_type": "code",
      "source": [
        "crime_data.show()"
      ],
      "metadata": {
        "colab": {
          "base_uri": "https://localhost:8080/"
        },
        "id": "mY0TOJJNJdmW",
        "outputId": "def55fe0-94a0-4f97-c340-4446a7fbe18c"
      },
      "execution_count": 33,
      "outputs": [
        {
          "output_type": "stream",
          "name": "stdout",
          "text": [
            "+---+----------+------+----------+-------------+-------------+-------+------------+----------+-----------+-----------+-----------+--------------------+----------------+----------------------+--------------------+---------+-----------+----------------+----------------+----------------+------------------+-----------------+---------+-----------------+--------------+\n",
            "|_c0|unique_key|ind_id|reportyear|race_eth_code|race_eth_name|geotype|geotypevalue|   geoname|county_fips|county_name|region_code|         region_name|strata_name_code|strata_level_name_code|   strata_level_name|numerator|denominator|            rate|         ll_95ci|         ul_95ci|                se|              rse|ca_decile|            ca_rr|dof_population|\n",
            "+---+----------+------+----------+-------------+-------------+-------+------------+----------+-----------+-----------+-----------+--------------------+----------------+----------------------+--------------------+---------+-----------+----------------+----------------+----------------+------------------+-----------------+---------+-----------------+--------------+\n",
            "|  0|         0|   752|    2000.0|          9.0|        Total|     CA|         6.0|California|       null|       null|       null|                null|             1.0|                   1.0|  Aggravated assault| 138325.0| 33847694.0|            null|            null|            null|              null|             null|     null|             null|    33873086.0|\n",
            "|  1|         1|   752|    2000.0|          9.0|        Total|     CA|         6.0|California|       null|       null|       null|                null|             1.0|                   2.0|       Forcible rape|   9784.0| 33847694.0|            null|            null|            null|              null|             null|     null|             null|    33873086.0|\n",
            "|  2|         2|   752|    2000.0|          9.0|        Total|     CA|         6.0|California|       null|       null|       null|                null|             1.0|                   3.0|Murder and non-ne...|   2079.0| 33847694.0|            null|            null|            null|              null|             null|     null|             null|    33873086.0|\n",
            "|  3|         3|   752|    2000.0|          9.0|        Total|     CA|         6.0|California|       null|       null|       null|                null|             1.0|                   4.0|             Robbery|  60237.0| 33847694.0|            null|            null|            null|              null|             null|     null|             null|    33873086.0|\n",
            "|  4|         4|   752|    2000.0|          9.0|        Total|     CA|         6.0|California|       null|       null|       null|                null|             1.0|                   5.0| Violent crime total| 210448.0| 33847694.0| 6.2174988937208|6.19093453191778|6.24406325552381|0.0135532458178622|0.217985496250751|     null|              1.0|    33873086.0|\n",
            "|  5|         5|   752|    2000.0|          9.0|        Total|     CO|      6001.0|   Alameda|     6001.0|    Alameda|        1.0|            Bay Area|             1.0|                   1.0|  Aggravated assault|   5457.0|  1443741.0|            null|            null|            null|              null|             null|     null|             null|     1443939.0|\n",
            "|  6|         6|   752|    2000.0|          9.0|        Total|     CO|      6001.0|   Alameda|     6001.0|    Alameda|        1.0|            Bay Area|             1.0|                   2.0|       Forcible rape|    568.0|  1443741.0|            null|            null|            null|              null|             null|     null|             null|     1443939.0|\n",
            "|  7|         7|   752|    2000.0|          9.0|        Total|     CO|      6001.0|   Alameda|     6001.0|    Alameda|        1.0|            Bay Area|             1.0|                   3.0|Murder and non-ne...|    110.0|  1443741.0|            null|            null|            null|              null|             null|     null|             null|     1443939.0|\n",
            "|  8|         8|   752|    2000.0|          9.0|        Total|     CO|      6001.0|   Alameda|     6001.0|    Alameda|        1.0|            Bay Area|             1.0|                   4.0|             Robbery|   3368.0|  1443741.0|            null|            null|            null|              null|             null|     null|             null|     1443939.0|\n",
            "|  9|         9|   752|    2000.0|          9.0|        Total|     CO|      6001.0|   Alameda|     6001.0|    Alameda|        1.0|            Bay Area|             1.0|                   5.0| Violent crime total|   9503.0|  1443741.0| 6.5822055340951|6.44986370094024|6.71454736724997| 0.067521343446358| 1.02581639386076|     null| 1.05865809493632|     1443939.0|\n",
            "| 10|        10|   752|    2000.0|          9.0|        Total|     CO|      6003.0|    Alpine|     6003.0|     Alpine|        3.0|Central/Southeast...|             1.0|                   1.0|  Aggravated assault|      9.0|     1208.0|            null|            null|            null|              null|             null|     null|             null|        1208.0|\n",
            "| 11|        11|   752|    2000.0|          9.0|        Total|     CO|      6003.0|    Alpine|     6003.0|     Alpine|        3.0|Central/Southeast...|             1.0|                   2.0|       Forcible rape|      1.0|     1208.0|            null|            null|            null|              null|             null|     null|             null|        1208.0|\n",
            "| 12|        12|   752|    2000.0|          9.0|        Total|     CO|      6003.0|    Alpine|     6003.0|     Alpine|        3.0|Central/Southeast...|             1.0|                   3.0|Murder and non-ne...|     null|     1208.0|            null|            null|            null|              null|             null|     null|             null|        1208.0|\n",
            "| 13|        13|   752|    2000.0|          9.0|        Total|     CO|      6003.0|    Alpine|     6003.0|     Alpine|        3.0|Central/Southeast...|             1.0|                   4.0|             Robbery|     null|     1208.0|            null|            null|            null|              null|             null|     null|             null|        1208.0|\n",
            "| 14|        14|   752|    2000.0|          9.0|        Total|     CO|      6003.0|    Alpine|     6003.0|     Alpine|        3.0|Central/Southeast...|             1.0|                   5.0| Violent crime total|     10.0|     1208.0|8.27814569536424|3.14729783615064|13.4089935545778|  2.61777952000694| 31.6227766016838|     null| 1.33142696715629|        1208.0|\n",
            "| 15|        15|   752|    2000.0|          9.0|        Total|     CO|      6005.0|    Amador|     6005.0|     Amador|        3.0|Central/Southeast...|             1.0|                   1.0|  Aggravated assault|    153.0|    34120.0|            null|            null|            null|              null|             null|     null|             null|       35100.0|\n",
            "| 16|        16|   752|    2000.0|          9.0|        Total|     CO|      6005.0|    Amador|     6005.0|     Amador|        3.0|Central/Southeast...|             1.0|                   2.0|       Forcible rape|     22.0|    34120.0|            null|            null|            null|              null|             null|     null|             null|       35100.0|\n",
            "| 17|        17|   752|    2000.0|          9.0|        Total|     CO|      6005.0|    Amador|     6005.0|     Amador|        3.0|Central/Southeast...|             1.0|                   3.0|Murder and non-ne...|      1.0|    34120.0|            null|            null|            null|              null|             null|     null|             null|       35100.0|\n",
            "| 18|        18|   752|    2000.0|          9.0|        Total|     CO|      6005.0|    Amador|     6005.0|     Amador|        3.0|Central/Southeast...|             1.0|                   4.0|             Robbery|      3.0|    34120.0|            null|            null|            null|              null|             null|     null|             null|       35100.0|\n",
            "| 19|        19|   752|    2000.0|          9.0|        Total|     CO|      6005.0|    Amador|     6005.0|     Amador|        3.0|Central/Southeast...|             1.0|                   5.0| Violent crime total|    179.0|    34120.0|5.24618991793669|4.47763737414687|6.01474246172652| 0.392118644790728| 7.47435092751936|     null|0.843778182772972|       35100.0|\n",
            "+---+----------+------+----------+-------------+-------------+-------+------------+----------+-----------+-----------+-----------+--------------------+----------------+----------------------+--------------------+---------+-----------+----------------+----------------+----------------+------------------+-----------------+---------+-----------------+--------------+\n",
            "only showing top 20 rows\n",
            "\n"
          ]
        }
      ]
    },
    {
      "cell_type": "code",
      "source": [
        "crime_data.select([\"unique_key\", \"reportyear\", \"geoname\", \"numerator\"]).where(crime_data.unique_key == \"5\").collect()"
      ],
      "metadata": {
        "colab": {
          "base_uri": "https://localhost:8080/"
        },
        "id": "EhLB744ekq-S",
        "outputId": "1620ab7f-23c2-4e5f-9678-35cf5b2fa8b9"
      },
      "execution_count": 35,
      "outputs": [
        {
          "output_type": "execute_result",
          "data": {
            "text/plain": [
              "[Row(unique_key='5', reportyear='2000.0', geoname='Alameda', numerator='5457.0')]"
            ]
          },
          "metadata": {},
          "execution_count": 35
        }
      ]
    },
    {
      "cell_type": "code",
      "source": [
        "crime_data.count()"
      ],
      "metadata": {
        "colab": {
          "base_uri": "https://localhost:8080/"
        },
        "id": "nl9rS7ujlFu7",
        "outputId": "9f89337a-f85f-4080-a3ba-00c7d1bcbb18"
      },
      "execution_count": null,
      "outputs": [
        {
          "output_type": "execute_result",
          "data": {
            "text/plain": [
              "49227"
            ]
          },
          "metadata": {},
          "execution_count": 53
        }
      ]
    },
    {
      "cell_type": "code",
      "source": [
        "crime_data.drop(col(\"race_eth_name\")) \\\n",
        "  .printSchema() "
      ],
      "metadata": {
        "colab": {
          "base_uri": "https://localhost:8080/"
        },
        "id": "fmGOhSTaKXuw",
        "outputId": "6e4f5778-bc3b-4d15-ff1c-0539e9b08b94"
      },
      "execution_count": 36,
      "outputs": [
        {
          "output_type": "stream",
          "name": "stdout",
          "text": [
            "root\n",
            " |-- _c0: string (nullable = true)\n",
            " |-- unique_key: string (nullable = true)\n",
            " |-- ind_id: string (nullable = true)\n",
            " |-- reportyear: string (nullable = true)\n",
            " |-- race_eth_code: string (nullable = true)\n",
            " |-- geotype: string (nullable = true)\n",
            " |-- geotypevalue: string (nullable = true)\n",
            " |-- geoname: string (nullable = true)\n",
            " |-- county_fips: string (nullable = true)\n",
            " |-- county_name: string (nullable = true)\n",
            " |-- region_code: string (nullable = true)\n",
            " |-- region_name: string (nullable = true)\n",
            " |-- strata_name_code: string (nullable = true)\n",
            " |-- strata_level_name_code: string (nullable = true)\n",
            " |-- strata_level_name: string (nullable = true)\n",
            " |-- numerator: string (nullable = true)\n",
            " |-- denominator: string (nullable = true)\n",
            " |-- rate: string (nullable = true)\n",
            " |-- ll_95ci: string (nullable = true)\n",
            " |-- ul_95ci: string (nullable = true)\n",
            " |-- se: string (nullable = true)\n",
            " |-- rse: string (nullable = true)\n",
            " |-- ca_decile: string (nullable = true)\n",
            " |-- ca_rr: string (nullable = true)\n",
            " |-- dof_population: string (nullable = true)\n",
            "\n"
          ]
        }
      ]
    },
    {
      "cell_type": "markdown",
      "source": [
        "# **Analyzing Climate Data**"
      ],
      "metadata": {
        "id": "zZnMpIFbKnnP"
      }
    },
    {
      "cell_type": "code",
      "source": [
        "climate_data_path = \"/content/gdrive/My Drive/WWCode Python Workshop/climate_data_per_state.csv\"\n",
        "\n",
        "climate_data = spark.read.csv(climate_data_path, header=True)"
      ],
      "metadata": {
        "id": "KdQvOeSvm0yp"
      },
      "execution_count": 37,
      "outputs": []
    },
    {
      "cell_type": "code",
      "source": [
        "climate_data.printSchema()"
      ],
      "metadata": {
        "colab": {
          "base_uri": "https://localhost:8080/"
        },
        "id": "CQF5z6w1m3Dz",
        "outputId": "fe76ab2f-8af5-474b-e912-55f4488d8631"
      },
      "execution_count": 38,
      "outputs": [
        {
          "output_type": "stream",
          "name": "stdout",
          "text": [
            "root\n",
            " |-- _c0: string (nullable = true)\n",
            " |-- unique_key: string (nullable = true)\n",
            " |-- dt: string (nullable = true)\n",
            " |-- day: string (nullable = true)\n",
            " |-- month: string (nullable = true)\n",
            " |-- year: string (nullable = true)\n",
            " |-- State: string (nullable = true)\n",
            " |-- AverageTemperature: string (nullable = true)\n",
            " |-- AverageTemperatureUncertainty: string (nullable = true)\n",
            "\n"
          ]
        }
      ]
    },
    {
      "cell_type": "code",
      "source": [
        "climate_data.take(2)"
      ],
      "metadata": {
        "colab": {
          "base_uri": "https://localhost:8080/"
        },
        "id": "gIyoLkH8m5HZ",
        "outputId": "9a929c01-90a1-4e8b-f94d-984f3e2bca90"
      },
      "execution_count": 39,
      "outputs": [
        {
          "output_type": "execute_result",
          "data": {
            "text/plain": [
              "[Row(_c0='0', unique_key='7458', dt='1743-11-01', day='1', month='11', year='1743', State='Alabama', AverageTemperature='10.722', AverageTemperatureUncertainty='2.898'),\n",
              " Row(_c0='1', unique_key='7459', dt='1743-12-01', day='1', month='12', year='1743', State='Alabama', AverageTemperature=None, AverageTemperatureUncertainty=None)]"
            ]
          },
          "metadata": {},
          "execution_count": 39
        }
      ]
    },
    {
      "cell_type": "code",
      "source": [
        "climate_data.drop(col(\"_c0\"))"
      ],
      "metadata": {
        "colab": {
          "base_uri": "https://localhost:8080/"
        },
        "id": "4MmDarjensw6",
        "outputId": "78c70817-a803-488c-9ac4-c6ed65f24e08"
      },
      "execution_count": 50,
      "outputs": [
        {
          "output_type": "execute_result",
          "data": {
            "text/plain": [
              "DataFrame[unique_key: string, dt: string, day: string, month: string, year: string, State: string, AverageTemperature: string, AverageTemperatureUncertainty: string]"
            ]
          },
          "metadata": {},
          "execution_count": 50
        }
      ]
    },
    {
      "cell_type": "code",
      "source": [
        "climate_data.groupBy(\"year\").count().show()"
      ],
      "metadata": {
        "colab": {
          "base_uri": "https://localhost:8080/"
        },
        "id": "Q1rAros3oBgo",
        "outputId": "dc5d1b89-8cf0-4c49-81d6-b30d569e85af"
      },
      "execution_count": 43,
      "outputs": [
        {
          "output_type": "stream",
          "name": "stdout",
          "text": [
            "+----+-----+\n",
            "|year|count|\n",
            "+----+-----+\n",
            "|1746|  348|\n",
            "|1808|  468|\n",
            "|1870|  600|\n",
            "|1903|  612|\n",
            "|1953|  612|\n",
            "|1773|  444|\n",
            "|1897|  612|\n",
            "|1957|  612|\n",
            "|1880|  600|\n",
            "|1987|  612|\n",
            "|1956|  612|\n",
            "|1765|  384|\n",
            "|1791|  468|\n",
            "|1936|  612|\n",
            "|2012|  612|\n",
            "|1793|  468|\n",
            "|1958|  612|\n",
            "|1856|  600|\n",
            "|1910|  612|\n",
            "|1943|  612|\n",
            "+----+-----+\n",
            "only showing top 20 rows\n",
            "\n"
          ]
        }
      ]
    },
    {
      "cell_type": "code",
      "source": [
        "climate_data.sort(climate_data.year.desc()).show(truncate=False)"
      ],
      "metadata": {
        "colab": {
          "base_uri": "https://localhost:8080/"
        },
        "id": "yELpLA6YoFQh",
        "outputId": "671951bb-44e7-4151-dccc-d0939baa2d74"
      },
      "execution_count": 52,
      "outputs": [
        {
          "output_type": "stream",
          "name": "stdout",
          "text": [
            "+-----+----------+----------+---+-----+----+--------+-------------------+-----------------------------+\n",
            "|_c0  |unique_key|dt        |day|month|year|State   |AverageTemperature |AverageTemperatureUncertainty|\n",
            "+-----+----------+----------+---+-----+----+--------+-------------------+-----------------------------+\n",
            "|5463 |15102     |2013-05-01|1  |5    |2013|Alaska  |1.6949999999999998 |0.392                        |\n",
            "|10677|37217     |2013-07-01|1  |7    |2013|Arkansas|25.922             |0.212                        |\n",
            "|5464 |15103     |2013-06-01|1  |6    |2013|Alaska  |12.277             |0.447                        |\n",
            "|5462 |15101     |2013-04-01|1  |4    |2013|Alaska  |-9.208             |0.392                        |\n",
            "|5465 |15104     |2013-07-01|1  |7    |2013|Alaska  |13.009             |0.3229999999999999           |\n",
            "|3230 |10688     |2013-01-01|1  |1    |2013|Alabama |10.284             |0.241                        |\n",
            "|5466 |15105     |2013-08-01|1  |8    |2013|Alaska  |11.099             |0.376                        |\n",
            "|3232 |10690     |2013-03-01|1  |3    |2013|Alabama |10.226             |0.158                        |\n",
            "|5467 |15106     |2013-09-01|1  |9    |2013|Alaska  |null               |null                         |\n",
            "|3236 |10694     |2013-07-01|1  |7    |2013|Alabama |25.952             |0.207                        |\n",
            "|7604 |34144     |2013-01-01|1  |1    |2013|Arizona |3.3839999999999995 |0.209                        |\n",
            "|3238 |10696     |2013-09-01|1  |9    |2013|Alabama |25.121             |1.12                         |\n",
            "|7605 |34145     |2013-02-01|1  |2    |2013|Arizona |5.585999999999999  |0.229                        |\n",
            "|5460 |15099     |2013-02-01|1  |2    |2013|Alaska  |-16.714000000000002|0.461                        |\n",
            "|7606 |34146     |2013-03-01|1  |3    |2013|Arizona |12.715             |0.211                        |\n",
            "|7609 |34149     |2013-06-01|1  |6    |2013|Arizona |26.615             |0.326                        |\n",
            "|7610 |34150     |2013-07-01|1  |7    |2013|Arizona |27.466             |0.254                        |\n",
            "|3234 |10692     |2013-05-01|1  |5    |2013|Alabama |20.619             |0.229                        |\n",
            "|7611 |34151     |2013-08-01|1  |8    |2013|Arizona |26.164             |0.42                         |\n",
            "|3231 |10689     |2013-02-01|1  |2    |2013|Alabama |9.161              |0.213                        |\n",
            "+-----+----------+----------+---+-----+----+--------+-------------------+-----------------------------+\n",
            "only showing top 20 rows\n",
            "\n"
          ]
        }
      ]
    }
  ]
}